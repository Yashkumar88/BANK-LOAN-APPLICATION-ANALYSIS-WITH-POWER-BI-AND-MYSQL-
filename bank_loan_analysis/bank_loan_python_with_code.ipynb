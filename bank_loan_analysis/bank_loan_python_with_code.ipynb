{
 "cells": [
  {
   "cell_type": "code",
   "execution_count": 1,
   "id": "49aee8f3",
   "metadata": {},
   "outputs": [],
   "source": [
    "import pandas as pd \n",
    "import seaborn as sns \n",
    "import numpy as np \n",
    "import matplotlib.pyplot as plt"
   ]
  },
  {
   "cell_type": "code",
   "execution_count": 2,
   "id": "ef1611db",
   "metadata": {},
   "outputs": [
    {
     "data": {
      "text/plain": [
       "(38576, 24)"
      ]
     },
     "execution_count": 2,
     "metadata": {},
     "output_type": "execute_result"
    }
   ],
   "source": [
    "# -- read_csv --\n",
    "df = pd.read_csv(\"financial_loan.csv\")\n",
    "\n",
    "df.shape"
   ]
  },
  {
   "cell_type": "code",
   "execution_count": 3,
   "id": "cedbdd9e",
   "metadata": {},
   "outputs": [
    {
     "data": {
      "text/html": [
       "<div>\n",
       "<style scoped>\n",
       "    .dataframe tbody tr th:only-of-type {\n",
       "        vertical-align: middle;\n",
       "    }\n",
       "\n",
       "    .dataframe tbody tr th {\n",
       "        vertical-align: top;\n",
       "    }\n",
       "\n",
       "    .dataframe thead th {\n",
       "        text-align: right;\n",
       "    }\n",
       "</style>\n",
       "<table border=\"1\" class=\"dataframe\">\n",
       "  <thead>\n",
       "    <tr style=\"text-align: right;\">\n",
       "      <th></th>\n",
       "      <th>id</th>\n",
       "      <th>address_state</th>\n",
       "      <th>application_type</th>\n",
       "      <th>emp_length</th>\n",
       "      <th>emp_title</th>\n",
       "      <th>grade</th>\n",
       "      <th>home_ownership</th>\n",
       "      <th>issue_date</th>\n",
       "      <th>last_credit_pull_date</th>\n",
       "      <th>last_payment_date</th>\n",
       "      <th>...</th>\n",
       "      <th>sub_grade</th>\n",
       "      <th>term</th>\n",
       "      <th>verification_status</th>\n",
       "      <th>annual_income</th>\n",
       "      <th>dti</th>\n",
       "      <th>installment</th>\n",
       "      <th>int_rate</th>\n",
       "      <th>loan_amount</th>\n",
       "      <th>total_acc</th>\n",
       "      <th>total_payment</th>\n",
       "    </tr>\n",
       "  </thead>\n",
       "  <tbody>\n",
       "    <tr>\n",
       "      <th>32819</th>\n",
       "      <td>496326</td>\n",
       "      <td>OH</td>\n",
       "      <td>INDIVIDUAL</td>\n",
       "      <td>2 years</td>\n",
       "      <td>Starbucks</td>\n",
       "      <td>A</td>\n",
       "      <td>RENT</td>\n",
       "      <td>10-03-2021</td>\n",
       "      <td>15-09-2021</td>\n",
       "      <td>13-04-2021</td>\n",
       "      <td>...</td>\n",
       "      <td>A4</td>\n",
       "      <td>36 months</td>\n",
       "      <td>Not Verified</td>\n",
       "      <td>21600.0</td>\n",
       "      <td>0.2133</td>\n",
       "      <td>108.89</td>\n",
       "      <td>0.0751</td>\n",
       "      <td>3500</td>\n",
       "      <td>8</td>\n",
       "      <td>3920</td>\n",
       "    </tr>\n",
       "    <tr>\n",
       "      <th>27975</th>\n",
       "      <td>645644</td>\n",
       "      <td>PA</td>\n",
       "      <td>INDIVIDUAL</td>\n",
       "      <td>5 years</td>\n",
       "      <td>The SI Organizatation, INC.</td>\n",
       "      <td>A</td>\n",
       "      <td>RENT</td>\n",
       "      <td>11-01-2021</td>\n",
       "      <td>16-05-2021</td>\n",
       "      <td>12-06-2021</td>\n",
       "      <td>...</td>\n",
       "      <td>A1</td>\n",
       "      <td>36 months</td>\n",
       "      <td>Not Verified</td>\n",
       "      <td>69350.0</td>\n",
       "      <td>0.0768</td>\n",
       "      <td>325.73</td>\n",
       "      <td>0.0542</td>\n",
       "      <td>10800</td>\n",
       "      <td>26</td>\n",
       "      <td>11426</td>\n",
       "    </tr>\n",
       "    <tr>\n",
       "      <th>21521</th>\n",
       "      <td>805289</td>\n",
       "      <td>NY</td>\n",
       "      <td>INDIVIDUAL</td>\n",
       "      <td>10+ years</td>\n",
       "      <td>Paul Effman Music Service</td>\n",
       "      <td>E</td>\n",
       "      <td>RENT</td>\n",
       "      <td>11-07-2021</td>\n",
       "      <td>12-01-2021</td>\n",
       "      <td>11-12-2021</td>\n",
       "      <td>...</td>\n",
       "      <td>E5</td>\n",
       "      <td>60 months</td>\n",
       "      <td>Source Verified</td>\n",
       "      <td>130000.0</td>\n",
       "      <td>0.0453</td>\n",
       "      <td>593.56</td>\n",
       "      <td>0.1969</td>\n",
       "      <td>35000</td>\n",
       "      <td>6</td>\n",
       "      <td>24363</td>\n",
       "    </tr>\n",
       "    <tr>\n",
       "      <th>11201</th>\n",
       "      <td>710014</td>\n",
       "      <td>CA</td>\n",
       "      <td>INDIVIDUAL</td>\n",
       "      <td>&lt; 1 year</td>\n",
       "      <td>Cypress Semiconductor</td>\n",
       "      <td>B</td>\n",
       "      <td>RENT</td>\n",
       "      <td>11-03-2021</td>\n",
       "      <td>12-04-2021</td>\n",
       "      <td>12-04-2021</td>\n",
       "      <td>...</td>\n",
       "      <td>B4</td>\n",
       "      <td>36 months</td>\n",
       "      <td>Not Verified</td>\n",
       "      <td>90000.0</td>\n",
       "      <td>0.0355</td>\n",
       "      <td>430.53</td>\n",
       "      <td>0.1074</td>\n",
       "      <td>13200</td>\n",
       "      <td>6</td>\n",
       "      <td>14018</td>\n",
       "    </tr>\n",
       "    <tr>\n",
       "      <th>21528</th>\n",
       "      <td>652961</td>\n",
       "      <td>FL</td>\n",
       "      <td>INDIVIDUAL</td>\n",
       "      <td>3 years</td>\n",
       "      <td>Bank of America Merrill Lynch</td>\n",
       "      <td>E</td>\n",
       "      <td>RENT</td>\n",
       "      <td>11-02-2021</td>\n",
       "      <td>16-03-2021</td>\n",
       "      <td>16-03-2021</td>\n",
       "      <td>...</td>\n",
       "      <td>E4</td>\n",
       "      <td>60 months</td>\n",
       "      <td>Source Verified</td>\n",
       "      <td>57000.0</td>\n",
       "      <td>0.1448</td>\n",
       "      <td>402.05</td>\n",
       "      <td>0.1751</td>\n",
       "      <td>16000</td>\n",
       "      <td>12</td>\n",
       "      <td>24122</td>\n",
       "    </tr>\n",
       "  </tbody>\n",
       "</table>\n",
       "<p>5 rows × 24 columns</p>\n",
       "</div>"
      ],
      "text/plain": [
       "           id address_state application_type emp_length  \\\n",
       "32819  496326            OH       INDIVIDUAL    2 years   \n",
       "27975  645644            PA       INDIVIDUAL    5 years   \n",
       "21521  805289            NY       INDIVIDUAL  10+ years   \n",
       "11201  710014            CA       INDIVIDUAL   < 1 year   \n",
       "21528  652961            FL       INDIVIDUAL    3 years   \n",
       "\n",
       "                           emp_title grade home_ownership  issue_date  \\\n",
       "32819                      Starbucks     A           RENT  10-03-2021   \n",
       "27975    The SI Organizatation, INC.     A           RENT  11-01-2021   \n",
       "21521      Paul Effman Music Service     E           RENT  11-07-2021   \n",
       "11201          Cypress Semiconductor     B           RENT  11-03-2021   \n",
       "21528  Bank of America Merrill Lynch     E           RENT  11-02-2021   \n",
       "\n",
       "      last_credit_pull_date last_payment_date  ... sub_grade        term  \\\n",
       "32819            15-09-2021        13-04-2021  ...        A4   36 months   \n",
       "27975            16-05-2021        12-06-2021  ...        A1   36 months   \n",
       "21521            12-01-2021        11-12-2021  ...        E5   60 months   \n",
       "11201            12-04-2021        12-04-2021  ...        B4   36 months   \n",
       "21528            16-03-2021        16-03-2021  ...        E4   60 months   \n",
       "\n",
       "       verification_status annual_income     dti installment int_rate  \\\n",
       "32819         Not Verified       21600.0  0.2133      108.89   0.0751   \n",
       "27975         Not Verified       69350.0  0.0768      325.73   0.0542   \n",
       "21521      Source Verified      130000.0  0.0453      593.56   0.1969   \n",
       "11201         Not Verified       90000.0  0.0355      430.53   0.1074   \n",
       "21528      Source Verified       57000.0  0.1448      402.05   0.1751   \n",
       "\n",
       "       loan_amount  total_acc  total_payment  \n",
       "32819         3500          8           3920  \n",
       "27975        10800         26          11426  \n",
       "21521        35000          6          24363  \n",
       "11201        13200          6          14018  \n",
       "21528        16000         12          24122  \n",
       "\n",
       "[5 rows x 24 columns]"
      ]
     },
     "execution_count": 3,
     "metadata": {},
     "output_type": "execute_result"
    }
   ],
   "source": [
    "df.sample(5)"
   ]
  },
  {
   "cell_type": "code",
   "execution_count": 3,
   "id": "7a69c5b6",
   "metadata": {},
   "outputs": [
    {
     "data": {
      "text/plain": [
       "id                          0\n",
       "address_state               0\n",
       "application_type            0\n",
       "emp_length                  0\n",
       "emp_title                1438\n",
       "grade                       0\n",
       "home_ownership              0\n",
       "issue_date                  0\n",
       "last_credit_pull_date       0\n",
       "last_payment_date           0\n",
       "loan_status                 0\n",
       "next_payment_date           0\n",
       "member_id                   0\n",
       "purpose                     0\n",
       "sub_grade                   0\n",
       "term                        0\n",
       "verification_status         0\n",
       "annual_income               0\n",
       "dti                         0\n",
       "installment                 0\n",
       "int_rate                    0\n",
       "loan_amount                 0\n",
       "total_acc                   0\n",
       "total_payment               0\n",
       "dtype: int64"
      ]
     },
     "execution_count": 3,
     "metadata": {},
     "output_type": "execute_result"
    }
   ],
   "source": [
    "# -- now checking null values \n",
    "df.isnull().sum()  # there is only one value that is null "
   ]
  },
  {
   "cell_type": "code",
   "execution_count": 4,
   "id": "82ad33e0",
   "metadata": {},
   "outputs": [
    {
     "data": {
      "text/plain": [
       "0"
      ]
     },
     "execution_count": 4,
     "metadata": {},
     "output_type": "execute_result"
    }
   ],
   "source": [
    "# no duplicated()  \n",
    "df.duplicated().sum()"
   ]
  },
  {
   "cell_type": "code",
   "execution_count": 9,
   "id": "4cdfe19c",
   "metadata": {},
   "outputs": [
    {
     "name": "stdout",
     "output_type": "stream",
     "text": [
      "id : -  int64 \n",
      "address_state : -  object \n",
      "application_type : -  object \n",
      "emp_length : -  object \n",
      "emp_title : -  object \n",
      "grade : -  object \n",
      "home_ownership : -  object \n",
      "issue_date : -  object \n",
      "last_credit_pull_date : -  object \n",
      "last_payment_date : -  object \n",
      "loan_status : -  object \n",
      "next_payment_date : -  object \n",
      "member_id : -  int64 \n",
      "purpose : -  object \n",
      "sub_grade : -  object \n",
      "term : -  object \n",
      "verification_status : -  object \n",
      "annual_income : -  float64 \n",
      "dti : -  float64 \n",
      "installment : -  float64 \n",
      "int_rate : -  float64 \n",
      "loan_amount : -  int64 \n",
      "total_acc : -  int64 \n",
      "total_payment : -  int64 \n"
     ]
    }
   ],
   "source": [
    "# checking dtypes of there --\n",
    "for i in df: \n",
    "    a=df[i].dtypes\n",
    "    print(f\"{i} : -  {a} \")"
   ]
  },
  {
   "cell_type": "code",
   "execution_count": 22,
   "id": "939f9e1f",
   "metadata": {},
   "outputs": [],
   "source": [
    "# sepearated -- int and object separately \n",
    "df_num = df[df.dtypes[df.dtypes !=\"object\"].index]\n",
    "df_obj = df[df.dtypes[df.dtypes == \"object\"].index]"
   ]
  },
  {
   "cell_type": "code",
   "execution_count": 34,
   "id": "5d413d3e",
   "metadata": {},
   "outputs": [
    {
     "data": {
      "text/html": [
       "<div>\n",
       "<style scoped>\n",
       "    .dataframe tbody tr th:only-of-type {\n",
       "        vertical-align: middle;\n",
       "    }\n",
       "\n",
       "    .dataframe tbody tr th {\n",
       "        vertical-align: top;\n",
       "    }\n",
       "\n",
       "    .dataframe thead th {\n",
       "        text-align: right;\n",
       "    }\n",
       "</style>\n",
       "<table border=\"1\" class=\"dataframe\">\n",
       "  <thead>\n",
       "    <tr style=\"text-align: right;\">\n",
       "      <th></th>\n",
       "      <th>id</th>\n",
       "      <th>member_id</th>\n",
       "      <th>annual_income</th>\n",
       "      <th>dti</th>\n",
       "      <th>installment</th>\n",
       "      <th>int_rate</th>\n",
       "      <th>loan_amount</th>\n",
       "      <th>total_acc</th>\n",
       "      <th>total_payment</th>\n",
       "    </tr>\n",
       "  </thead>\n",
       "  <tbody>\n",
       "    <tr>\n",
       "      <th>id</th>\n",
       "      <td>1.000000</td>\n",
       "      <td>0.993609</td>\n",
       "      <td>0.012234</td>\n",
       "      <td>0.095496</td>\n",
       "      <td>0.090631</td>\n",
       "      <td>0.083235</td>\n",
       "      <td>0.146818</td>\n",
       "      <td>0.043469</td>\n",
       "      <td>0.144655</td>\n",
       "    </tr>\n",
       "    <tr>\n",
       "      <th>member_id</th>\n",
       "      <td>0.993609</td>\n",
       "      <td>1.000000</td>\n",
       "      <td>0.013138</td>\n",
       "      <td>0.096723</td>\n",
       "      <td>0.085360</td>\n",
       "      <td>0.079246</td>\n",
       "      <td>0.145916</td>\n",
       "      <td>0.045824</td>\n",
       "      <td>0.144906</td>\n",
       "    </tr>\n",
       "    <tr>\n",
       "      <th>annual_income</th>\n",
       "      <td>0.012234</td>\n",
       "      <td>0.013138</td>\n",
       "      <td>1.000000</td>\n",
       "      <td>-0.124877</td>\n",
       "      <td>0.267362</td>\n",
       "      <td>0.050665</td>\n",
       "      <td>0.268183</td>\n",
       "      <td>0.234334</td>\n",
       "      <td>0.254611</td>\n",
       "    </tr>\n",
       "    <tr>\n",
       "      <th>dti</th>\n",
       "      <td>0.095496</td>\n",
       "      <td>0.096723</td>\n",
       "      <td>-0.124877</td>\n",
       "      <td>1.000000</td>\n",
       "      <td>0.053381</td>\n",
       "      <td>0.112978</td>\n",
       "      <td>0.065713</td>\n",
       "      <td>0.230405</td>\n",
       "      <td>0.064319</td>\n",
       "    </tr>\n",
       "    <tr>\n",
       "      <th>installment</th>\n",
       "      <td>0.090631</td>\n",
       "      <td>0.085360</td>\n",
       "      <td>0.267362</td>\n",
       "      <td>0.053381</td>\n",
       "      <td>1.000000</td>\n",
       "      <td>0.280959</td>\n",
       "      <td>0.929655</td>\n",
       "      <td>0.229785</td>\n",
       "      <td>0.857745</td>\n",
       "    </tr>\n",
       "    <tr>\n",
       "      <th>int_rate</th>\n",
       "      <td>0.083235</td>\n",
       "      <td>0.079246</td>\n",
       "      <td>0.050665</td>\n",
       "      <td>0.112978</td>\n",
       "      <td>0.280959</td>\n",
       "      <td>1.000000</td>\n",
       "      <td>0.308243</td>\n",
       "      <td>-0.041670</td>\n",
       "      <td>0.308844</td>\n",
       "    </tr>\n",
       "    <tr>\n",
       "      <th>loan_amount</th>\n",
       "      <td>0.146818</td>\n",
       "      <td>0.145916</td>\n",
       "      <td>0.268183</td>\n",
       "      <td>0.065713</td>\n",
       "      <td>0.929655</td>\n",
       "      <td>0.308243</td>\n",
       "      <td>1.000000</td>\n",
       "      <td>0.255468</td>\n",
       "      <td>0.887490</td>\n",
       "    </tr>\n",
       "    <tr>\n",
       "      <th>total_acc</th>\n",
       "      <td>0.043469</td>\n",
       "      <td>0.045824</td>\n",
       "      <td>0.234334</td>\n",
       "      <td>0.230405</td>\n",
       "      <td>0.229785</td>\n",
       "      <td>-0.041670</td>\n",
       "      <td>0.255468</td>\n",
       "      <td>1.000000</td>\n",
       "      <td>0.223542</td>\n",
       "    </tr>\n",
       "    <tr>\n",
       "      <th>total_payment</th>\n",
       "      <td>0.144655</td>\n",
       "      <td>0.144906</td>\n",
       "      <td>0.254611</td>\n",
       "      <td>0.064319</td>\n",
       "      <td>0.857745</td>\n",
       "      <td>0.308844</td>\n",
       "      <td>0.887490</td>\n",
       "      <td>0.223542</td>\n",
       "      <td>1.000000</td>\n",
       "    </tr>\n",
       "  </tbody>\n",
       "</table>\n",
       "</div>"
      ],
      "text/plain": [
       "                     id  member_id  annual_income       dti  installment  \\\n",
       "id             1.000000   0.993609       0.012234  0.095496     0.090631   \n",
       "member_id      0.993609   1.000000       0.013138  0.096723     0.085360   \n",
       "annual_income  0.012234   0.013138       1.000000 -0.124877     0.267362   \n",
       "dti            0.095496   0.096723      -0.124877  1.000000     0.053381   \n",
       "installment    0.090631   0.085360       0.267362  0.053381     1.000000   \n",
       "int_rate       0.083235   0.079246       0.050665  0.112978     0.280959   \n",
       "loan_amount    0.146818   0.145916       0.268183  0.065713     0.929655   \n",
       "total_acc      0.043469   0.045824       0.234334  0.230405     0.229785   \n",
       "total_payment  0.144655   0.144906       0.254611  0.064319     0.857745   \n",
       "\n",
       "               int_rate  loan_amount  total_acc  total_payment  \n",
       "id             0.083235     0.146818   0.043469       0.144655  \n",
       "member_id      0.079246     0.145916   0.045824       0.144906  \n",
       "annual_income  0.050665     0.268183   0.234334       0.254611  \n",
       "dti            0.112978     0.065713   0.230405       0.064319  \n",
       "installment    0.280959     0.929655   0.229785       0.857745  \n",
       "int_rate       1.000000     0.308243  -0.041670       0.308844  \n",
       "loan_amount    0.308243     1.000000   0.255468       0.887490  \n",
       "total_acc     -0.041670     0.255468   1.000000       0.223542  \n",
       "total_payment  0.308844     0.887490   0.223542       1.000000  "
      ]
     },
     "execution_count": 34,
     "metadata": {},
     "output_type": "execute_result"
    }
   ],
   "source": [
    "# finding corr values \n",
    "a=df_num.corr()\n",
    "a"
   ]
  },
  {
   "cell_type": "code",
   "execution_count": 35,
   "id": "aa1054b5",
   "metadata": {},
   "outputs": [
    {
     "data": {
      "text/plain": [
       "<AxesSubplot: >"
      ]
     },
     "execution_count": 35,
     "metadata": {},
     "output_type": "execute_result"
    },
    {
     "data": {
      "image/png": "[encoded data removed]",
      "text/plain": [
       "<Figure size 640x480 with 2 Axes>"
      ]
     },
     "metadata": {},
     "output_type": "display_data"
    }
   ],
   "source": [
    "sns.heatmap(a>.6,annot=True)"
   ]
  },
  {
   "cell_type": "code",
   "execution_count": 4,
   "id": "e0bdc523",
   "metadata": {},
   "outputs": [
    {
     "data": {
      "text/plain": [
       "<AxesSubplot: xlabel='loan_amount', ylabel='loan_status'>"
      ]
     },
     "execution_count": 4,
     "metadata": {},
     "output_type": "execute_result"
    },
    {
     "data": {
      "image/png": "[encoded data removed]",
      "text/plain": [
       "<Figure size 640x480 with 1 Axes>"
      ]
     },
     "metadata": {},
     "output_type": "display_data"
    }
   ],
   "source": [
    "sns.violinplot(data=df,x=df['loan_amount'],y=df['loan_status'])"
   ]
  },
  {
   "cell_type": "code",
   "execution_count": null,
   "id": "efc27256",
   "metadata": {},
   "outputs": [],
   "source": []
  }
 ],
 "metadata": {
  "kernelspec": {
   "display_name": "Python 3 (ipykernel)",
   "language": "python",
   "name": "python3"
  },
  "language_info": {
   "codemirror_mode": {
    "name": "ipython",
    "version": 3
   },
   "file_extension": ".py",
   "mimetype": "text/x-python",
   "name": "python",
   "nbconvert_exporter": "python",
   "pygments_lexer": "ipython3",
   "version": "3.9.16"
  }
 },
 "nbformat": 4,
 "nbformat_minor": 5
}
